{
 "cells": [
  {
   "cell_type": "code",
   "execution_count": 3,
   "metadata": {},
   "outputs": [
    {
     "name": "stderr",
     "output_type": "stream",
     "text": [
      "/Users/sonat/Documents/repos/ornament_symmgroups/.env/lib/python3.7/site-packages/pandas/compat/__init__.py:117: UserWarning: Could not import the lzma module. Your installed Python is incomplete. Attempting to use lzma compression will result in a RuntimeError.\n",
      "  warnings.warn(msg)\n"
     ]
    }
   ],
   "source": [
    "import pandas as pd\n",
    "import matplotlib.pyplot as plt"
   ]
  },
  {
   "cell_type": "code",
   "execution_count": 4,
   "metadata": {
    "scrolled": true
   },
   "outputs": [
    {
     "data": {
      "text/html": [
       "<div>\n",
       "<style scoped>\n",
       "    .dataframe tbody tr th:only-of-type {\n",
       "        vertical-align: middle;\n",
       "    }\n",
       "\n",
       "    .dataframe tbody tr th {\n",
       "        vertical-align: top;\n",
       "    }\n",
       "\n",
       "    .dataframe thead th {\n",
       "        text-align: right;\n",
       "    }\n",
       "</style>\n",
       "<table border=\"1\" class=\"dataframe\">\n",
       "  <thead>\n",
       "    <tr style=\"text-align: right;\">\n",
       "      <th></th>\n",
       "      <th>A</th>\n",
       "      <th>B</th>\n",
       "      <th>E</th>\n",
       "    </tr>\n",
       "  </thead>\n",
       "  <tbody>\n",
       "    <tr>\n",
       "      <th>p1</th>\n",
       "      <td>0.0</td>\n",
       "      <td>14.04</td>\n",
       "      <td>5.6</td>\n",
       "    </tr>\n",
       "    <tr>\n",
       "      <th>p1m1</th>\n",
       "      <td>0.3</td>\n",
       "      <td>9.65</td>\n",
       "      <td>0.0</td>\n",
       "    </tr>\n",
       "    <tr>\n",
       "      <th>p1g1</th>\n",
       "      <td>0.0</td>\n",
       "      <td>0.88</td>\n",
       "      <td>0.0</td>\n",
       "    </tr>\n",
       "    <tr>\n",
       "      <th>c1m1</th>\n",
       "      <td>0.0</td>\n",
       "      <td>4.39</td>\n",
       "      <td>2.4</td>\n",
       "    </tr>\n",
       "    <tr>\n",
       "      <th>p211</th>\n",
       "      <td>0.6</td>\n",
       "      <td>2.63</td>\n",
       "      <td>4.0</td>\n",
       "    </tr>\n",
       "    <tr>\n",
       "      <th>p2mm</th>\n",
       "      <td>3.9</td>\n",
       "      <td>9.65</td>\n",
       "      <td>1.6</td>\n",
       "    </tr>\n",
       "    <tr>\n",
       "      <th>p2mg</th>\n",
       "      <td>0.3</td>\n",
       "      <td>5.26</td>\n",
       "      <td>0.0</td>\n",
       "    </tr>\n",
       "    <tr>\n",
       "      <th>p2gg</th>\n",
       "      <td>0.0</td>\n",
       "      <td>0.88</td>\n",
       "      <td>6.4</td>\n",
       "    </tr>\n",
       "    <tr>\n",
       "      <th>c2mm</th>\n",
       "      <td>9.5</td>\n",
       "      <td>3.51</td>\n",
       "      <td>1.6</td>\n",
       "    </tr>\n",
       "    <tr>\n",
       "      <th>p3</th>\n",
       "      <td>0.3</td>\n",
       "      <td>0.00</td>\n",
       "      <td>0.8</td>\n",
       "    </tr>\n",
       "    <tr>\n",
       "      <th>p3m1</th>\n",
       "      <td>0.0</td>\n",
       "      <td>0.00</td>\n",
       "      <td>0.0</td>\n",
       "    </tr>\n",
       "    <tr>\n",
       "      <th>p31m</th>\n",
       "      <td>1.2</td>\n",
       "      <td>0.00</td>\n",
       "      <td>2.4</td>\n",
       "    </tr>\n",
       "    <tr>\n",
       "      <th>p4</th>\n",
       "      <td>2.9</td>\n",
       "      <td>1.75</td>\n",
       "      <td>49.6</td>\n",
       "    </tr>\n",
       "    <tr>\n",
       "      <th>p4mm</th>\n",
       "      <td>47.8</td>\n",
       "      <td>35.09</td>\n",
       "      <td>12.8</td>\n",
       "    </tr>\n",
       "    <tr>\n",
       "      <th>p4gm</th>\n",
       "      <td>6.4</td>\n",
       "      <td>11.40</td>\n",
       "      <td>4.0</td>\n",
       "    </tr>\n",
       "    <tr>\n",
       "      <th>p6</th>\n",
       "      <td>4.2</td>\n",
       "      <td>0.88</td>\n",
       "      <td>4.8</td>\n",
       "    </tr>\n",
       "    <tr>\n",
       "      <th>p6mm</th>\n",
       "      <td>22.2</td>\n",
       "      <td>0.00</td>\n",
       "      <td>4.0</td>\n",
       "    </tr>\n",
       "  </tbody>\n",
       "</table>\n",
       "</div>"
      ],
      "text/plain": [
       "         A      B     E\n",
       "p1     0.0  14.04   5.6\n",
       "p1m1   0.3   9.65   0.0\n",
       "p1g1   0.0   0.88   0.0\n",
       "c1m1   0.0   4.39   2.4\n",
       "p211   0.6   2.63   4.0\n",
       "p2mm   3.9   9.65   1.6\n",
       "p2mg   0.3   5.26   0.0\n",
       "p2gg   0.0   0.88   6.4\n",
       "c2mm   9.5   3.51   1.6\n",
       "p3     0.3   0.00   0.8\n",
       "p3m1   0.0   0.00   0.0\n",
       "p31m   1.2   0.00   2.4\n",
       "p4     2.9   1.75  49.6\n",
       "p4mm  47.8  35.09  12.8\n",
       "p4gm   6.4  11.40   4.0\n",
       "p6     4.2   0.88   4.8\n",
       "p6mm  22.2   0.00   4.0"
      ]
     },
     "execution_count": 4,
     "metadata": {},
     "output_type": "execute_result"
    }
   ],
   "source": [
    "df = pd.read_excel(\"./symm_groups.xlsx\",index_col=0)\n",
    "df"
   ]
  },
  {
   "cell_type": "markdown",
   "metadata": {},
   "source": [
    "# Histograms"
   ]
  },
  {
   "cell_type": "code",
   "execution_count": 5,
   "metadata": {},
   "outputs": [
    {
     "data": {
      "text/plain": [
       "<matplotlib.axes._subplots.AxesSubplot at 0x1166c3588>"
      ]
     },
     "execution_count": 5,
     "metadata": {},
     "output_type": "execute_result"
    },
    {
     "data": {
      "image/png": "[encoded data removed]",
      "text/plain": [
       "<Figure size 432x288 with 1 Axes>"
      ]
     },
     "metadata": {
      "needs_background": "light"
     },
     "output_type": "display_data"
    }
   ],
   "source": [
    "df.plot(kind='bar')"
   ]
  },
  {
   "cell_type": "markdown",
   "metadata": {},
   "source": [
    "# Correlation"
   ]
  },
  {
   "cell_type": "code",
   "execution_count": 6,
   "metadata": {},
   "outputs": [
    {
     "data": {
      "text/html": [
       "<style  type=\"text/css\" >\n",
       "    #T_ea9a1a4c_a7b2_11ea_8dc5_3af9d3833c39row0_col0 {\n",
       "            background-color:  #b40426;\n",
       "            color:  #f1f1f1;\n",
       "        }    #T_ea9a1a4c_a7b2_11ea_8dc5_3af9d3833c39row0_col1 {\n",
       "            background-color:  #f7a889;\n",
       "            color:  #000000;\n",
       "        }    #T_ea9a1a4c_a7b2_11ea_8dc5_3af9d3833c39row0_col2 {\n",
       "            background-color:  #516ddb;\n",
       "            color:  #000000;\n",
       "        }    #T_ea9a1a4c_a7b2_11ea_8dc5_3af9d3833c39row1_col0 {\n",
       "            background-color:  #f7b093;\n",
       "            color:  #000000;\n",
       "        }    #T_ea9a1a4c_a7b2_11ea_8dc5_3af9d3833c39row1_col1 {\n",
       "            background-color:  #b40426;\n",
       "            color:  #f1f1f1;\n",
       "        }    #T_ea9a1a4c_a7b2_11ea_8dc5_3af9d3833c39row1_col2 {\n",
       "            background-color:  #3b4cc0;\n",
       "            color:  #f1f1f1;\n",
       "        }    #T_ea9a1a4c_a7b2_11ea_8dc5_3af9d3833c39row2_col0 {\n",
       "            background-color:  #3b4cc0;\n",
       "            color:  #f1f1f1;\n",
       "        }    #T_ea9a1a4c_a7b2_11ea_8dc5_3af9d3833c39row2_col1 {\n",
       "            background-color:  #3b4cc0;\n",
       "            color:  #f1f1f1;\n",
       "        }    #T_ea9a1a4c_a7b2_11ea_8dc5_3af9d3833c39row2_col2 {\n",
       "            background-color:  #b40426;\n",
       "            color:  #f1f1f1;\n",
       "        }</style><table id=\"T_ea9a1a4c_a7b2_11ea_8dc5_3af9d3833c39\" ><thead>    <tr>        <th class=\"blank level0\" ></th>        <th class=\"col_heading level0 col0\" >A</th>        <th class=\"col_heading level0 col1\" >B</th>        <th class=\"col_heading level0 col2\" >E</th>    </tr></thead><tbody>\n",
       "                <tr>\n",
       "                        <th id=\"T_ea9a1a4c_a7b2_11ea_8dc5_3af9d3833c39level0_row0\" class=\"row_heading level0 row0\" >A</th>\n",
       "                        <td id=\"T_ea9a1a4c_a7b2_11ea_8dc5_3af9d3833c39row0_col0\" class=\"data row0 col0\" >1.000000</td>\n",
       "                        <td id=\"T_ea9a1a4c_a7b2_11ea_8dc5_3af9d3833c39row0_col1\" class=\"data row0 col1\" >0.733040</td>\n",
       "                        <td id=\"T_ea9a1a4c_a7b2_11ea_8dc5_3af9d3833c39row0_col2\" class=\"data row0 col2\" >0.145256</td>\n",
       "            </tr>\n",
       "            <tr>\n",
       "                        <th id=\"T_ea9a1a4c_a7b2_11ea_8dc5_3af9d3833c39level0_row1\" class=\"row_heading level0 row1\" >B</th>\n",
       "                        <td id=\"T_ea9a1a4c_a7b2_11ea_8dc5_3af9d3833c39row1_col0\" class=\"data row1 col0\" >0.733040</td>\n",
       "                        <td id=\"T_ea9a1a4c_a7b2_11ea_8dc5_3af9d3833c39row1_col1\" class=\"data row1 col1\" >1.000000</td>\n",
       "                        <td id=\"T_ea9a1a4c_a7b2_11ea_8dc5_3af9d3833c39row1_col2\" class=\"data row1 col2\" >0.075417</td>\n",
       "            </tr>\n",
       "            <tr>\n",
       "                        <th id=\"T_ea9a1a4c_a7b2_11ea_8dc5_3af9d3833c39level0_row2\" class=\"row_heading level0 row2\" >E</th>\n",
       "                        <td id=\"T_ea9a1a4c_a7b2_11ea_8dc5_3af9d3833c39row2_col0\" class=\"data row2 col0\" >0.145256</td>\n",
       "                        <td id=\"T_ea9a1a4c_a7b2_11ea_8dc5_3af9d3833c39row2_col1\" class=\"data row2 col1\" >0.075417</td>\n",
       "                        <td id=\"T_ea9a1a4c_a7b2_11ea_8dc5_3af9d3833c39row2_col2\" class=\"data row2 col2\" >1.000000</td>\n",
       "            </tr>\n",
       "    </tbody></table>"
      ],
      "text/plain": [
       "<pandas.io.formats.style.Styler at 0x118824d30>"
      ]
     },
     "execution_count": 6,
     "metadata": {},
     "output_type": "execute_result"
    }
   ],
   "source": [
    "# df.corr().plot(kind=mat)\n",
    "corr = df.corr()\n",
    "corr.style.background_gradient(cmap='coolwarm')"
   ]
  },
  {
   "cell_type": "code",
   "execution_count": null,
   "metadata": {},
   "outputs": [],
   "source": []
  }
 ],
 "metadata": {
  "kernelspec": {
   "display_name": "Python 3",
   "language": "python",
   "name": "python3"
  },
  "language_info": {
   "codemirror_mode": {
    "name": "ipython",
    "version": 3
   },
   "file_extension": ".py",
   "mimetype": "text/x-python",
   "name": "python",
   "nbconvert_exporter": "python",
   "pygments_lexer": "ipython3",
   "version": "3.7.4"
  }
 },
 "nbformat": 4,
 "nbformat_minor": 4
}
